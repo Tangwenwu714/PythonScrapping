{
 "cells": [
  {
   "attachments": {},
   "cell_type": "markdown",
   "metadata": {},
   "source": [
    "# 上海有色金属网"
   ]
  },
  {
   "cell_type": "code",
   "execution_count": 49,
   "metadata": {},
   "outputs": [],
   "source": [
    "import requests\n",
    "import bs4 as BeautifulSoup\n",
    "import time\n",
    "import csv\n",
    "import re"
   ]
  },
  {
   "attachments": {},
   "cell_type": "markdown",
   "metadata": {},
   "source": [
    "## 爬取价格数据"
   ]
  },
  {
   "cell_type": "code",
   "execution_count": 76,
   "metadata": {},
   "outputs": [],
   "source": [
    "# 获取token\n",
    "url = 'https://user.smm.cn/api/usercenter/post_auth'\n",
    "\n",
    "data = {\n",
    "    'user_name': '18215531755',\n",
    "    'password': 'b7612000dc1a4c7f963f041900a435c2',\n",
    "    'source':'web',\n",
    "    'device_id': '6540ab49-a795-5041-8294-fc62d1517123',\n",
    "    'source_link': 'https://price.smm.cn/',\n",
    "    'user_agent': 'chrome/111.0.0.0',\n",
    "    'ip': '114.85.228.27'\n",
    "}\n",
    "\n",
    "headers = {\n",
    "    'user-agent': 'Mozilla/5.0 (Windows NT 10.0; Win64; x64) AppleWebKit/537.36 (KHTML, like Gecko) Chrome/111.0.0.0 Safari/537.36',\n",
    "    'referer': 'https://user.smm.cn/login?referer=https://price.smm.cn/'\n",
    "}\n",
    "\n",
    "resp = requests.post(url= url, data= data, headers= headers)\n",
    "token = resp.json()['data']['token']\n",
    "\n",
    "resp.close()"
   ]
  },
  {
   "cell_type": "code",
   "execution_count": 79,
   "metadata": {},
   "outputs": [],
   "source": [
    "# 爬取价格数据\n",
    "url = f'https://platform.smm.cn/spotcenter/v31/settlement/history/prices?token={token}'\n",
    "\n",
    "data = {\n",
    "    'product_ids': '201303070021',\n",
    "    'start_date': '2023-02-08',\n",
    "    'end_date': '2023-03-08',\n",
    "    'is_not_spot': '1',\n",
    "    'trial_show_more': '0'\n",
    "}\n",
    "\n",
    "headers = {\n",
    "    'User-Agent': 'Mozilla/5.0 (Windows NT 10.0; Win64; x64) AppleWebKit/537.36 (KHTML, like Gecko) Chrome/111.0.0.0 Safari/537.36',\n",
    "    'Referer': 'https://price.smm.cn/'\n",
    "}\n",
    "\n",
    "resp = requests.post(url=url, data=data, headers= headers)\n",
    "\n",
    "data = resp.json()\n",
    "resp.close()"
   ]
  },
  {
   "cell_type": "code",
   "execution_count": null,
   "metadata": {},
   "outputs": [],
   "source": [
    "# 将爬取的价格数据写入文件\n",
    "for i in data['data']:\n",
    "    for j in i['prices']:\n",
    "        name = j['product_name']\n",
    "        avg_price = j['average']\n",
    "        print(name, avg_price)"
   ]
  },
  {
   "attachments": {},
   "cell_type": "markdown",
   "metadata": {},
   "source": [
    "## 爬取材料编号"
   ]
  },
  {
   "cell_type": "code",
   "execution_count": null,
   "metadata": {},
   "outputs": [],
   "source": []
  }
 ],
 "metadata": {
  "kernelspec": {
   "display_name": "base",
   "language": "python",
   "name": "python3"
  },
  "language_info": {
   "codemirror_mode": {
    "name": "ipython",
    "version": 3
   },
   "file_extension": ".py",
   "mimetype": "text/x-python",
   "name": "python",
   "nbconvert_exporter": "python",
   "pygments_lexer": "ipython3",
   "version": "3.9.12"
  },
  "orig_nbformat": 4
 },
 "nbformat": 4,
 "nbformat_minor": 2
}
