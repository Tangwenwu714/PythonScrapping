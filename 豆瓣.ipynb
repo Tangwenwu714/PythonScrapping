{
 "cells": [
  {
   "cell_type": "code",
   "execution_count": null,
   "metadata": {},
   "outputs": [],
   "source": [
    "import requests\n",
    "import re\n",
    "import csv\n",
    "\n",
    "url = 'https://movie.douban.com/top250'\n",
    "\n",
    "headers = {\n",
    "    'User-Agent': 'Mozilla/5.0 (Windows NT 10.0; Win64; x64) AppleWebKit/537.36 (KHTML, like Gecko) Chrome/110.0.0.0 Safari/537.36'\n",
    "}\n",
    "\n",
    "resp = requests.get(url= url, headers= headers)\n",
    "page_content = resp.text\n",
    "\n",
    "# 解析数据\n",
    "obj = re.compile(r\"<li>.*?<div class='item>.*?<span class='title'>(?P<name>.*?)\"\n",
    "                 r\"</span>.*?<p class=''>.*?<br>(?P<year>)&nbsp\", re.S)\n",
    "\n",
    "result = obj.finditer(page_content)\n",
    "f = open('data.csv', mode='w')\n",
    "csvwriter = csv.writer(f)\n",
    "for it in result:\n",
    "    # print(it.group('name'))\n",
    "    # print(it.group('year').strip())\n",
    "    dic = it.groupdict()\n",
    "    dic['year'] = dic['year'].strip()\n",
    "    csvwriter.writerow(dic.values())\n",
    "f.close()\n",
    "\n",
    "resp.close()"
   ]
  }
 ],
 "metadata": {
  "language_info": {
   "name": "python"
  }
 },
 "nbformat": 4,
 "nbformat_minor": 2
}
