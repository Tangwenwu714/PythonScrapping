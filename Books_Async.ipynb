{
 "cells": [
  {
   "cell_type": "code",
   "execution_count": null,
   "metadata": {},
   "outputs": [],
   "source": [
    "# 异步爬虫实战\n",
    "# 现有网站内容已进行加密\n",
    "\n",
    "'''\n",
    "1. 同步操作: 访问getCatalog 拿到所有章节的cid和名称\n",
    "2. 异步操作: 访问getChapterContent 下载所有文章内容\n",
    "'''\n",
    "import json\n",
    "import asyncio\n",
    "import aiohttp\n",
    "import aiofiles\n",
    "import requests\n",
    "\n",
    "\n",
    "async def aiodownload(cid,b_id,title):\n",
    "    data = {\n",
    "        \"book_id\":b_id,\n",
    "        \"cid\":f\"{b_id}|{cid}\",\n",
    "        \"need_bookinfo\":1\n",
    "    }\n",
    "    data = json.dumps(data) # 把json变化为字符串\n",
    "    url = f\"http:564156?data={data}\"\n",
    "\n",
    "    async with aiohttp.ClientSession() as session:\n",
    "        async with session.get(url) as resp:\n",
    "            dic = await resp.json()\n",
    "\n",
    "            async with aiofiles.open(title, mode='w',encoding='utf-8') as f:\n",
    "                await f.write(dic['data']['novel']['content'])\n",
    "\n",
    "\n",
    "def getCatalog(url):\n",
    "    resp = requests.get(url)\n",
    "    dic = resp.json()\n",
    "    tasks = []\n",
    "    for item in dic['data']['novel']['items']: # item就是的对应的每一个章节的名称和cid\n",
    "        title = item['title']\n",
    "        cid = item['cid']\n",
    "        # 准备异步任务\n",
    "        d = asyncio.create_task(aiodownload(cid,b_id,title))\n",
    "        tasks.append(d)\n",
    "\n",
    "    await asyncio.wait(tasks)\n",
    "\n",
    "\n",
    "if __name__ == '__main__':\n",
    "    b_id = \"4306063500\"\n",
    "    url = '章节的内容{id}'.format(id=b_id)\n",
    "    asyncio.run(getCatalog(url))"
   ]
  }
 ],
 "metadata": {
  "language_info": {
   "name": "python"
  }
 },
 "nbformat": 4,
 "nbformat_minor": 2
}
