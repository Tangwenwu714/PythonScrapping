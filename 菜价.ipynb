{
 "cells": [
  {
   "cell_type": "code",
   "execution_count": null,
   "metadata": {},
   "outputs": [],
   "source": [
    "import requests\n",
    "import bs4 as BeautifulSoup\n",
    "# 网站已进行更新了，采用的是ajax\n",
    "url = 'http://www.xinfadi.com.cn/priceDetail.html'\n",
    "resp = requests.get(url)\n",
    "\n",
    "#解析数据\n",
    "page = BeautifulSoup(resp.text,'html.parser') # 指定html解析器\n",
    "# 从bs对象查找数据\n",
    "# find(标签，属性=值)\n",
    "# findall(标签，属性=值)\n",
    "table = page.find('table', class_= 'hq_table') # class是python的关键字\n",
    "table = page.find('table', attrs = {'class':'hq_table'}) # 与上面等同，避免了使用class\n",
    "\n",
    "import csv\n",
    "f = open('菜价.csv', mode='w')\n",
    "csvwriter = csv.writer(f)\n",
    "\n",
    "trs = table.find_all('tr')[1:]\n",
    "for tr in trs: # 每一行数据\n",
    "    tds= tr.find_all('td')\n",
    "    name = tds[0].text # .text 拿到被标签标记的内容\n",
    "    low = tds[1].text # .text 拿到被标签标记的内容\n",
    "    avg = tds[2].text # .text 拿到被标签标记的内容\n",
    "    high = tds[3].text # .text 拿到被标签标记的内容\n",
    "    gui = tds[4].text # .text 拿到被标签标记的内容\n",
    "    kind = tds[5].text # .text 拿到被标签标记的内容\n",
    "    date = tds[6].text # .text 拿到被标签标记的内容\n",
    "    csvwriter.writerow([name,low,avg])\n",
    "\n",
    "f.close()\n",
    "resp.close()"
   ]
  }
 ],
 "metadata": {
  "language_info": {
   "name": "python"
  }
 },
 "nbformat": 4,
 "nbformat_minor": 2
}
