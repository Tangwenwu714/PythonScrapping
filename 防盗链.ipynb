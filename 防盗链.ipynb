{
 "cells": [
  {
   "cell_type": "code",
   "execution_count": null,
   "metadata": {},
   "outputs": [],
   "source": [
    "# 1. 拿到contID\n",
    "# 2. 拿到videoStatus返回的json -> srcURL\n",
    "# 3. srcURL 里面的内容进行修整\n",
    "# 4. 下载视频\n",
    "import requests\n",
    "    # 规则是由人工判断出，通过XHR，Elements,页面源代码中的比较\n",
    "\n",
    "# 拉取视频的网址\n",
    "url = 'https://pearvideo.com/video_1561328'\n",
    "contID = url.split('_')[1]\n",
    "\n",
    "videoStatus = 'https://pearvideo.com/videoStatus.jsp?contId={cont}&mrd=0.005588827572069688'.format(cont=contID)\n",
    "\n",
    "headers = {\n",
    "    'User-Agent': 'Mozilla/5.0 (Windows NT 10.0; Win64; x64) AppleWebKit/537.36 (KHTML, like Gecko) Chrome/110.0.0.0 Safari/537.36',\n",
    "    # 防盗链: 溯源，当前本次请求的上一级是谁\n",
    "    'Referer': 'https://pearvideo.com/video_{cont}'.format(cont=contID)\n",
    "}\n",
    "\n",
    "\n",
    "resp = requests.get(videoStatus, headers=headers)\n",
    "dict = resp.json()\n",
    "\n",
    "srcUrl = dict['videoInfo']['videos']['srcUrl']\n",
    "systemTime = dict['systemTime']\n",
    "srcUrl = srcUrl.replace(systemTime,'cont-{contid}'.format(contid=contID))\n",
    "\n",
    "# 下载视频\n",
    "with open('a.mp4', mode='wb') as f:\n",
    "    f.write(requests.get(srcUrl).content)"
   ]
  }
 ],
 "metadata": {
  "language_info": {
   "name": "python"
  }
 },
 "nbformat": 4,
 "nbformat_minor": 2
}
