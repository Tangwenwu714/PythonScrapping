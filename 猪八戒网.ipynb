{
 "cells": [
  {
   "cell_type": "code",
   "execution_count": null,
   "metadata": {},
   "outputs": [],
   "source": [
    "# 拿到页面源代码\n",
    "# 提取和解析数据\n",
    "import requests\n",
    "from lxml import etree\n",
    "\n",
    "url = 'https://shanghai.zbj.com/search/service/?kw=saas&r=2'\n",
    "resp = requests.get(url)\n",
    "\n",
    "# 解析\n",
    "html = etree.HTML(resp.text) # 不能够混用，HTML/XML/PATH需要与文件格式对应\n",
    "\n",
    "# 拿到每一个服务商的div\n",
    "divs = html.xpath(\"/html/body/div[6]/div/div/div[2]/div[4]/div[1]/div\")\n",
    "for div in divs: # 每一个服务商信息\n",
    "    price = div.xpath(\"./div/div/a/div[2]/div[1]/span[1]/text()\")[0].strip('￥') # 不推荐直接使用小技巧，容易使用到唯一的id\n",
    "    title = \"saas\".join(div.xpath(\"./div/div/a/div[2]/div[2]/p/text()\")) # 将tuple里面的字符串连接起来\n"
   ]
  }
 ],
 "metadata": {
  "language_info": {
   "name": "python"
  }
 },
 "nbformat": 4,
 "nbformat_minor": 2
}
