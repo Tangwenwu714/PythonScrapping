{
 "cells": [
  {
   "cell_type": "code",
   "execution_count": null,
   "metadata": {},
   "outputs": [],
   "source": [
    "import requests\n",
    "\n",
    "domain = 'https://www.dytt89.com/'\n",
    "resp = requests.get(domain, verify = False) # verify = False 去掉安全验证\n",
    "resp.encoding = 'gb2312' # 指定字符集\n",
    "\n",
    "# 定位到2023热片\n",
    "obj1 = re.compile(r\"2023必看热片.*?<ul>(?P<ul>.*?)</ul>\", re.S)\n",
    "obj2 = re.compile(r\"<a href='(?P<href>)'>\", re.S)\n",
    "obj3 = re.compile(r\"◎片　　名(?P<movie>.*?)<br />\", re.S)\n",
    "\n",
    "result1 = obj1.finditer(resp.text)\n",
    "child_href_list = []\n",
    "for it in result1:\n",
    "    ul = it.group('ul')\n",
    "\n",
    "    # 提取子链接\n",
    "    result2 = obj2.finditer(ul)\n",
    "    for itt in result2:\n",
    "        child_href = domain + itt.group('href').strip('/')\n",
    "        child_href_list.append(child_href)\n",
    "\n",
    "for href in child_href_list:\n",
    "    child_resp = requests.get(href, verify = False)\n",
    "    child_resp.encoding = 'gb2312'\n",
    "    result3 = obj3.search(child_resp.text)\n",
    "    print(result3.group('movie'))\n",
    "    # break # 测试用"
   ]
  }
 ],
 "metadata": {
  "language_info": {
   "name": "python"
  }
 },
 "nbformat": 4,
 "nbformat_minor": 2
}
