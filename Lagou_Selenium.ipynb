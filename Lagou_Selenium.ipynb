{
 "cells": [
  {
   "cell_type": "code",
   "execution_count": null,
   "metadata": {},
   "outputs": [],
   "source": [
    "from selenium.webdriver import Chrome\n",
    "from selenium.webdriver.common.by import By\n",
    "from selenium.webdriver.common.keys import Keys\n",
    "\n",
    "import time\n",
    "\n",
    "web = Chrome()\n",
    "\n",
    "web.get('http://www.lagou.com')\n",
    "\n",
    "# 找到某个元素，点击它\n",
    "el = web.find_element(By.XPATH,'//*[@id=\"changeCityBox\"]/p[1]/a')\n",
    "    # web.find_elements_by_tag_name('div') 找到所有的div\n",
    "el.click()\n",
    "\n",
    "time.sleep(1) # 让浏览器休息一下，避免ajax情况出现\n",
    "\n",
    "# 找到输入框，输入python -> 输入回车/点击搜索按钮\n",
    "web.find_element(By.XPATH,'//*[@id=\"search_input\"]').send_keys('python',Keys.ENTER)\n",
    "\n",
    "time.sleep(1)\n",
    "# 查找存放数据的位置，进行数据的提取\n",
    "# 找到页面中存放数据的所有div\n",
    "div_list = web.find_elements(By.XPATH,'//*[@id=\"jobList\"]/div[1]/div')\n",
    "for div in div_list:\n",
    "    position = div.find_element(By.XPATH,'//*[@id=\"openWinPostion\"]').text\n",
    "    price = div.find_element(By.XPATH,'//*[@id=\"jobList\"]/div[1]/div[1]/div[1]/div[1]/div[2]/span').text\n",
    "    "
   ]
  }
 ],
 "metadata": {
  "language_info": {
   "name": "python"
  }
 },
 "nbformat": 4,
 "nbformat_minor": 2
}
